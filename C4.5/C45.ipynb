{
  "nbformat": 4,
  "nbformat_minor": 0,
  "metadata": {
    "colab": {
      "provenance": [],
      "toc_visible": true
    },
    "kernelspec": {
      "name": "python3",
      "display_name": "Python 3"
    },
    "language_info": {
      "name": "python"
    }
  },
  "cells": [
    {
      "cell_type": "code",
      "execution_count": 1,
      "metadata": {
        "id": "pEfpqU5zZ3Kb"
      },
      "outputs": [],
      "source": [
        "import pandas as pd\n",
        "import numpy as np\n",
        "from sklearn.model_selection import train_test_split"
      ]
    },
    {
      "cell_type": "code",
      "source": [
        "data = pd.read_csv(\"PlayTennis.csv\")\n",
        "\n",
        "# Chia dữ liệu thành 80% train và 20% test\n",
        "train_data, test_data = train_test_split(data, test_size=0.2, random_state=42)"
      ],
      "metadata": {
        "id": "eUHv4wa5aNLr",
        "collapsed": true
      },
      "execution_count": 2,
      "outputs": []
    },
    {
      "cell_type": "code",
      "source": [
        "def calc_total_entropy(train_data, label, class_list):\n",
        "    total_row = train_data.shape[0]\n",
        "    total_entr = 0\n",
        "\n",
        "    for c in class_list:\n",
        "        total_class_count = train_data[train_data[label] == c].shape[0]\n",
        "        total_class_entr = - (total_class_count/total_row)*np.log2(total_class_count/total_row)\n",
        "        total_entr += total_class_entr\n",
        "\n",
        "    return total_entr"
      ],
      "metadata": {
        "id": "am2qo8hTaSSS"
      },
      "execution_count": 3,
      "outputs": []
    },
    {
      "cell_type": "code",
      "source": [
        "def calc_entropy(feature_value_data, label, class_list):\n",
        "    class_count = feature_value_data.shape[0]\n",
        "    entropy = 0\n",
        "\n",
        "    for c in class_list:\n",
        "        label_class_count = feature_value_data[feature_value_data[label] == c].shape[0]\n",
        "        entropy_class = 0\n",
        "        if label_class_count != 0:\n",
        "            probability_class = label_class_count/class_count\n",
        "            entropy_class = - probability_class * np.log2(probability_class)\n",
        "        entropy += entropy_class\n",
        "    return entropy"
      ],
      "metadata": {
        "id": "jDdoXdD8aUvy"
      },
      "execution_count": 4,
      "outputs": []
    },
    {
      "cell_type": "code",
      "source": [
        "def calc_info_gain(feature_name, train_data, label, class_list):\n",
        "    feature_value_list = train_data[feature_name].unique()\n",
        "    total_row = train_data.shape[0]\n",
        "    feature_info = 0.0\n",
        "    split_info = 0.0\n",
        "\n",
        "    for feature_value in feature_value_list:\n",
        "        feature_value_data = train_data[train_data[feature_name] == feature_value]\n",
        "        feature_value_count = feature_value_data.shape[0]\n",
        "        feature_value_entropy = calc_entropy(feature_value_data, label, class_list)\n",
        "        feature_value_probability = feature_value_count / total_row\n",
        "\n",
        "        if feature_value_probability > 0:\n",
        "            split_info -= feature_value_probability * np.log2(feature_value_probability)\n",
        "\n",
        "        feature_info += feature_value_probability * feature_value_entropy\n",
        "\n",
        "    total_entropy = calc_total_entropy(train_data, label, class_list)\n",
        "\n",
        "    if split_info == 0:\n",
        "      return total_entropy - feature_info\n",
        "\n",
        "    return (total_entropy - feature_info) / split_info\n"
      ],
      "metadata": {
        "id": "cF5i4ms8aXCw"
      },
      "execution_count": 5,
      "outputs": []
    },
    {
      "cell_type": "code",
      "source": [
        "def find_most_informative_feature(train_data, label, class_list):\n",
        "    feature_list = train_data.columns.drop(label)\n",
        "    max_info_gain = -1\n",
        "    max_info_feature = None\n",
        "\n",
        "    for feature in feature_list:\n",
        "        feature_info_gain = calc_info_gain(feature, train_data, label, class_list)\n",
        "        if max_info_gain < feature_info_gain:\n",
        "            max_info_gain = feature_info_gain\n",
        "            max_info_feature = feature\n",
        "\n",
        "    return max_info_feature"
      ],
      "metadata": {
        "id": "syMoZZ5laZcC"
      },
      "execution_count": 6,
      "outputs": []
    },
    {
      "cell_type": "code",
      "source": [
        "def generate_sub_tree(feature_name, train_data, label, class_list):\n",
        "    feature_value_count_dict = train_data[feature_name].value_counts(sort=False)\n",
        "    tree = {}\n",
        "\n",
        "    for feature_value, count in feature_value_count_dict.items():\n",
        "        feature_value_data = train_data[train_data[feature_name] == feature_value]\n",
        "\n",
        "        assigned_to_node = False\n",
        "        for c in class_list:\n",
        "            class_count = feature_value_data[feature_value_data[label] == c].shape[0]\n",
        "\n",
        "            if class_count == count:\n",
        "                tree[feature_value] = c\n",
        "                train_data = train_data[train_data[feature_name] != feature_value]\n",
        "                assigned_to_node = True\n",
        "        if not assigned_to_node:\n",
        "            tree[feature_value] = \"?\"\n",
        "\n",
        "    return tree, train_data"
      ],
      "metadata": {
        "id": "1FvfZpuLf99K"
      },
      "execution_count": 7,
      "outputs": []
    },
    {
      "cell_type": "code",
      "source": [
        "def make_tree(root, prev_feature_value, train_data, label, class_list):\n",
        "    if train_data.shape[0] != 0:\n",
        "        max_info_feature = find_most_informative_feature(train_data, label, class_list)\n",
        "        tree, train_data = generate_sub_tree(max_info_feature, train_data, label, class_list)\n",
        "        next_root = None\n",
        "\n",
        "        if prev_feature_value != None:\n",
        "            root[prev_feature_value] = dict()\n",
        "            root[prev_feature_value][max_info_feature] = tree\n",
        "            next_root = root[prev_feature_value][max_info_feature]\n",
        "        else:\n",
        "            root[max_info_feature] = tree\n",
        "            next_root = root[max_info_feature]\n",
        "\n",
        "        for node, branch in list(next_root.items()):\n",
        "            if branch == \"?\":\n",
        "                feature_value_data = train_data[train_data[max_info_feature] == node]\n",
        "                make_tree(next_root, node, feature_value_data, label, class_list)\n"
      ],
      "metadata": {
        "id": "P6uhFrP9gA7A"
      },
      "execution_count": 8,
      "outputs": []
    },
    {
      "cell_type": "code",
      "source": [
        "def c45(train_data_m, label):\n",
        "    train_data = train_data_m.copy()\n",
        "    tree = {}\n",
        "    class_list = train_data[label].unique()\n",
        "    make_tree(tree, None, train_data, label, class_list)\n",
        "    return tree"
      ],
      "metadata": {
        "id": "z94_vifUgGFq"
      },
      "execution_count": 9,
      "outputs": []
    },
    {
      "cell_type": "code",
      "source": [
        "tree = c45(train_data, 'Play Tennis')"
      ],
      "metadata": {
        "id": "DqbFcqh_gLC6"
      },
      "execution_count": 10,
      "outputs": []
    },
    {
      "cell_type": "code",
      "source": [
        "print(tree)"
      ],
      "metadata": {
        "colab": {
          "base_uri": "https://localhost:8080/"
        },
        "id": "cJunUoaWhDh5",
        "outputId": "a84d6518-37e1-427c-9c1e-ac6823cc5285"
      },
      "execution_count": 11,
      "outputs": [
        {
          "output_type": "stream",
          "name": "stdout",
          "text": [
            "{'Humidity': {'Normal': {'Outlook': {'Overcast': 'Yes', 'Rain': {'Wind': {'Strong': 'No', 'Weak': 'Yes'}}, 'Sunny': 'Yes'}}, 'High': {'Wind': {'Weak': {'Outlook': {'Overcast': 'Yes', 'Sunny': 'No', 'Rain': 'Yes'}}, 'Strong': 'No'}}}}\n"
          ]
        }
      ]
    },
    {
      "cell_type": "code",
      "source": [
        "def predict(tree, instance):\n",
        "    if not isinstance(tree, dict):\n",
        "        return tree\n",
        "    else:\n",
        "        root_node = next(iter(tree))\n",
        "        feature_value = instance[root_node]\n",
        "        if feature_value in tree[root_node]:\n",
        "            return predict(tree[root_node][feature_value], instance)\n",
        "        else:\n",
        "            return None"
      ],
      "metadata": {
        "id": "49FAp5tTh0X-"
      },
      "execution_count": 12,
      "outputs": []
    },
    {
      "cell_type": "code",
      "source": [
        "def evaluate(tree, test_data, label):\n",
        "    correct_predict = 0\n",
        "    wrong_predict = 0\n",
        "    for index, row in test_data.iterrows():\n",
        "        result = predict(tree, row)\n",
        "        if result == row[label]:\n",
        "            correct_predict += 1\n",
        "        else:\n",
        "            wrong_predict += 1\n",
        "    accuracy = correct_predict / (correct_predict + wrong_predict)\n",
        "    return accuracy\n"
      ],
      "metadata": {
        "id": "lV_m14o3h8ky"
      },
      "execution_count": 13,
      "outputs": []
    },
    {
      "cell_type": "code",
      "source": [
        "accuracy = evaluate(tree, test_data, 'Play Tennis')"
      ],
      "metadata": {
        "id": "8AGTAY9CiA8_"
      },
      "execution_count": 14,
      "outputs": []
    },
    {
      "cell_type": "code",
      "source": [
        "print(accuracy)"
      ],
      "metadata": {
        "colab": {
          "base_uri": "https://localhost:8080/"
        },
        "id": "SVczDQdNiFDf",
        "outputId": "7ff70490-d58c-47ce-a179-0cf7eccda265"
      },
      "execution_count": 15,
      "outputs": [
        {
          "output_type": "stream",
          "name": "stdout",
          "text": [
            "0.6666666666666666\n"
          ]
        }
      ]
    }
  ]
}