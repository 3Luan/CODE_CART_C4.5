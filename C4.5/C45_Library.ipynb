{
  "cells": [
    {
      "cell_type": "code",
      "execution_count": null,
      "metadata": {
        "colab": {
          "base_uri": "https://localhost:8080/"
        },
        "collapsed": true,
        "id": "KjAfLEQ2u8oQ",
        "outputId": "576acb25-2f51-4eb3-f275-f51fc4007266"
      },
      "outputs": [
        {
          "name": "stdout",
          "output_type": "stream",
          "text": [
            "Requirement already satisfied: c45-decision-tree in /usr/local/lib/python3.10/dist-packages (1.0.2)\n"
          ]
        }
      ],
      "source": [
        "pip install c45-decision-tree"
      ]
    },
    {
      "cell_type": "code",
      "execution_count": null,
      "metadata": {
        "id": "0bDsar5dvCUF"
      },
      "outputs": [],
      "source": [
        "from C45 import C45Classifier\n",
        "import pandas as pd\n",
        "from sklearn.model_selection import train_test_split\n",
        "\n",
        "data = pd.read_csv(\"PlayTennis.csv\")\n",
        "\n",
        "# Chia dữ liệu thành 80% train và 20% test\n",
        "train_data, test_data = train_test_split(data, test_size=0.2, random_state=42)\n",
        "\n",
        "\n",
        "X = train_data.drop(['Play Tennis'], axis=1)\n",
        "y = train_data['Play Tennis']\n",
        "\n",
        "model = C45Classifier()\n",
        "model.fit(X, y)"
      ]
    },
    {
      "cell_type": "code",
      "execution_count": null,
      "metadata": {
        "colab": {
          "base_uri": "https://localhost:8080/"
        },
        "collapsed": true,
        "id": "gKM-Gvo2veh1",
        "outputId": "db4f0074-7130-4719-843c-c13ab67178e9"
      },
      "outputs": [
        {
          "name": "stdout",
          "output_type": "stream",
          "text": [
            "     Outlook Temperature Humidity    Wind Play Tennis\n",
            "9       Rain        Mild   Normal    Weak         Yes\n",
            "11  Overcast        Mild     High  Strong         Yes\n",
            "0      Sunny         Hot     High    Weak          No\n",
            "test_data      Outlook Temperature Humidity    Wind\n",
            "9       Rain        Mild   Normal    Weak\n",
            "11  Overcast        Mild     High  Strong\n",
            "0      Sunny         Hot     High    Weak\n",
            "     Outlook Temperature Humidity    Wind Play Tennis\n",
            "9       Rain        Mild   Normal    Weak         Yes\n",
            "11  Overcast        Mild     High  Strong         Yes\n",
            "0      Sunny         Hot     High    Weak          No\n"
          ]
        }
      ],
      "source": [
        "print(test_data)\n",
        "\n",
        "if 'Play Tennis' in test_data.columns:\n",
        "    test_data = test_data.drop(['Play Tennis'], axis=1)\n",
        "\n",
        "print(\"test_data\",test_data)\n",
        "\n",
        "predictions = model.predict(test_data)\n",
        "\n",
        "test_data['Play Tennis'] = predictions\n",
        "\n",
        "print(test_data.head())"
      ]
    },
    {
      "cell_type": "code",
      "execution_count": null,
      "metadata": {
        "colab": {
          "base_uri": "https://localhost:8080/"
        },
        "collapsed": true,
        "id": "wMxWlPYzvjMX",
        "outputId": "8d26d506-2b5a-4850-aa12-1934cdf2d2f7"
      },
      "outputs": [
        {
          "name": "stdout",
          "output_type": "stream",
          "text": [
            "Evaluation result: \n",
            "Total accuracy:  1.0\n",
            "Accuracy  Yes :  1.0\n",
            "Accuracy  No :  1.0\n"
          ]
        }
      ],
      "source": [
        "X_test = test_data.drop(['Play Tennis'], axis=1)\n",
        "y_test = test_data['Play Tennis']\n",
        "haha = model.evaluate(X_test, y_test)"
      ]
    },
    {
      "cell_type": "code",
      "execution_count": null,
      "metadata": {
        "id": "fNnEWJgm00MX"
      },
      "outputs": [],
      "source": [
        "import pickle\n",
        "\n",
        "with open('model.pkl', 'wb') as f:\n",
        "    pickle.dump(model, f)\n",
        "\n",
        "model = pickle.load(open('model.pkl', 'rb'))"
      ]
    },
    {
      "cell_type": "code",
      "execution_count": null,
      "metadata": {
        "colab": {
          "base_uri": "https://localhost:8080/",
          "height": 36
        },
        "collapsed": true,
        "id": "al7nMtJEQBwI",
        "outputId": "45c853ce-0a08-4102-cc12-ebf0e9b5f27c"
      },
      "outputs": [
        {
          "data": {
            "application/vnd.google.colaboratory.intrinsic+json": {
              "type": "string"
            },
            "text/plain": [
              "'TreeImage2.png'"
            ]
          },
          "execution_count": 18,
          "metadata": {},
          "output_type": "execute_result"
        }
      ],
      "source": [
        "from C45 import C45Classifier\n",
        "import pandas as pd\n",
        "import graphviz\n",
        "\n",
        "import graphviz\n",
        "model.generate_tree_diagram(graphviz,\"TreeImage2\")"
      ]
    }
  ],
  "metadata": {
    "colab": {
      "provenance": []
    },
    "kernelspec": {
      "display_name": "Python 3",
      "name": "python3"
    },
    "language_info": {
      "name": "python"
    }
  },
  "nbformat": 4,
  "nbformat_minor": 0
}
