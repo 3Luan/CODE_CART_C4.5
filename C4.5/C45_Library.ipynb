{
  "cells": [
    {
      "cell_type": "code",
      "execution_count": null,
      "metadata": {
        "colab": {
          "base_uri": "https://localhost:8080/"
        },
        "collapsed": true,
        "id": "KjAfLEQ2u8oQ",
        "outputId": "0ebc89d9-a070-4fc9-c9b0-ad480b39e1f1"
      },
      "outputs": [],
      "source": [
        "pip install c45-decision-tree"
      ]
    },
    {
      "cell_type": "code",
      "execution_count": 8,
      "metadata": {
        "id": "0bDsar5dvCUF"
      },
      "outputs": [],
      "source": [
        "from C45 import C45Classifier\n",
        "import pandas as pd\n",
        "from sklearn.model_selection import train_test_split\n",
        "\n",
        "data = pd.read_csv(\"PlayTennis.csv\")\n",
        "\n",
        "# Chia dữ liệu thành 80% train và 20% test\n",
        "train_data, test_data = train_test_split(data, test_size=0.2, random_state=42)\n",
        "\n",
        "X = train_data.drop(['Play Tennis'], axis=1)\n",
        "y = train_data['Play Tennis']\n",
        "\n",
        "model = C45Classifier()\n",
        "model.fit(X, y)"
      ]
    },
    {
      "cell_type": "code",
      "execution_count": 9,
      "metadata": {
        "collapsed": true,
        "id": "gKM-Gvo2veh1"
      },
      "outputs": [],
      "source": [
        "if 'Play Tennis' in test_data.columns:\n",
        "    test_data = test_data.drop(['Play Tennis'], axis=1)\n",
        "\n",
        "predictions = model.predict(test_data)\n",
        "\n",
        "test_data['Play Tennis'] = predictions"
      ]
    },
    {
      "cell_type": "code",
      "execution_count": 10,
      "metadata": {
        "colab": {
          "base_uri": "https://localhost:8080/"
        },
        "collapsed": true,
        "id": "wMxWlPYzvjMX",
        "outputId": "f31de578-784c-4acc-c0d2-1d1f16b212b4"
      },
      "outputs": [
        {
          "name": "stdout",
          "output_type": "stream",
          "text": [
            "Evaluation result: \n",
            "Total accuracy:  1.0\n",
            "Accuracy  Yes :  1.0\n",
            "Accuracy  No :  1.0\n"
          ]
        }
      ],
      "source": [
        "X_test = test_data.drop(['Play Tennis'], axis=1)\n",
        "y_test = test_data['Play Tennis']\n",
        "haha = model.evaluate(X_test, y_test)"
      ]
    },
    {
      "cell_type": "code",
      "execution_count": 11,
      "metadata": {
        "id": "fNnEWJgm00MX"
      },
      "outputs": [],
      "source": [
        "import pickle\n",
        "\n",
        "with open('model.pkl', 'wb') as f:\n",
        "    pickle.dump(model, f)\n",
        "\n",
        "model = pickle.load(open('model.pkl', 'rb'))"
      ]
    },
    {
      "cell_type": "code",
      "execution_count": 12,
      "metadata": {
        "colab": {
          "base_uri": "https://localhost:8080/",
          "height": 36
        },
        "collapsed": true,
        "id": "al7nMtJEQBwI",
        "outputId": "eb1e2988-e08e-4660-8294-fc486188436c"
      },
      "outputs": [
        {
          "data": {
            "application/vnd.google.colaboratory.intrinsic+json": {
              "type": "string"
            },
            "text/plain": [
              "'TreeImage.png'"
            ]
          },
          "execution_count": 12,
          "metadata": {},
          "output_type": "execute_result"
        }
      ],
      "source": [
        "from C45 import C45Classifier\n",
        "import pandas as pd\n",
        "import graphviz\n",
        "\n",
        "import graphviz\n",
        "model.generate_tree_diagram(graphviz,\"TreeImage\")"
      ]
    }
  ],
  "metadata": {
    "colab": {
      "provenance": []
    },
    "kernelspec": {
      "display_name": "Python 3",
      "name": "python3"
    },
    "language_info": {
      "name": "python"
    }
  },
  "nbformat": 4,
  "nbformat_minor": 0
}
